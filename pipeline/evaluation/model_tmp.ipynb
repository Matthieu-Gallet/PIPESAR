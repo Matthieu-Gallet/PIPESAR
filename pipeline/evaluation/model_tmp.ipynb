{
 "cells": [
  {
   "cell_type": "code",
   "execution_count": 51,
   "metadata": {},
   "outputs": [],
   "source": [
    "import sys\n",
    "import os\n",
    "import time\n",
    "import logging\n",
    "import argparse\n",
    "import numpy as np\n",
    "from datetime import datetime\n",
    "from joblib import Parallel, delayed\n",
    "\n",
    "# Set the parent directory. This assumes your notebook is in the project root or a subdirectory.\n",
    "# Adjust the path as necessary.\n",
    "parent_dir = os.path.abspath(os.path.join(os.getcwd(), \"..\"))\n",
    "sys.path.append(parent_dir)\n",
    "\n",
    "from sklearn.preprocessing import LabelEncoder\n",
    "from sklearn.model_selection import train_test_split\n",
    "\n",
    "# Custom imports from your project\n",
    "from estimators.statistical_descriptor import Nagler_WS\n",
    "from utils.dataset_management import parse_pipeline\n",
    "from utils.dataset_load import shuffle_data, DatasetLoader\n",
    "from utils.fold_management import FoldManagement\n",
    "from utils.label_management import LabelManagement\n",
    "from utils.balance_management import BalanceManagement\n",
    "from utils.figures import *\n",
    "from utils.files_management import *\n"
   ]
  },
  {
   "cell_type": "code",
   "execution_count": 7,
   "metadata": {},
   "outputs": [
    {
     "name": "stdout",
     "output_type": "stream",
     "text": [
      "RandomState(MT19937)\n"
     ]
    }
   ],
   "source": [
    "rng = np.random.RandomState(seed=442)\n",
    "print(rng)"
   ]
  },
  {
   "cell_type": "code",
   "execution_count": 13,
   "metadata": {},
   "outputs": [
    {
     "data": {
      "text/plain": [
       "{'fixed_args': {'options': {'--data_path': '/home/listic/Bureau/cortes_stage/ML-WetSnowSAR_pipeline_stage/pipeline/data/dataset/dataset_AD_08200821_14Mas3Top3Phy_W15_corrected_V2.h5',\n",
       "   '--fold_method': 'combinationFold',\n",
       "   '--labeling_method': 'crocus',\n",
       "   '--balancing_method': 'undersample',\n",
       "   '--request': '(date.dt.month == 3 and date.dt.day == 1) and ((elevation > 1000) and (elevation < 2000))',\n",
       "   '--shuffle_data': True,\n",
       "   '--balance_data': False,\n",
       "   '--import_list': ['from sklearn.svm import SVC',\n",
       "    'from sklearn.neighbors import KNeighborsClassifier',\n",
       "    'from sklearn.ensemble import AdaBoostClassifier, RandomForestClassifier',\n",
       "    'from sklearn.linear_model import LogisticRegression',\n",
       "    'from sklearn.neural_network import MLPClassifier',\n",
       "    'from estimators.statistical_descriptor import *',\n",
       "    'from estimators.band_transform import *'],\n",
       "   '--pipeline': [[['KNN_direct'],\n",
       "     ['BandSelector', {'bands': [0, 1, 2, 3, 4, 5, 6, 7, 8]}],\n",
       "     ['BandTransformer', {'bands': [0, 1, 2, 3]}, {'transformations': []}],\n",
       "     ['Hist_SAR'],\n",
       "     ['KNeighborsClassifier', {'n_neighbors': 50}]],\n",
       "    [['RandomForest_direct'],\n",
       "     ['BandSelector', {'bands': [0, 1, 2, 3, 4, 5, 6, 7, 8]}],\n",
       "     ['BandTransformer', {'bands': [0, 1, 2, 3]}, {'transformations': []}],\n",
       "     ['Hist_SAR'],\n",
       "     ['RandomForestClassifier',\n",
       "      {'n_estimators': 200},\n",
       "      {'criterion': 'entropy'}]],\n",
       "    [['MLP_direct'],\n",
       "     ['BandSelector', {'bands': [0, 1, 2, 3, 4, 5, 6, 7, 8]}],\n",
       "     ['BandTransformer', {'bands': [0, 1, 2, 3]}, {'transformations': []}],\n",
       "     ['Hist_SAR'],\n",
       "     ['MLPClassifier', {'alpha': 0.01}]],\n",
       "    [['SVMrbf_direct'],\n",
       "     ['BandSelector', {'bands': [0, 1, 2, 3, 4, 5, 6, 7, 8]}],\n",
       "     ['BandTransformer', {'bands': [0, 1, 2, 3]}, {'transformations': []}],\n",
       "     ['Hist_SAR'],\n",
       "     ['SVC', {'kernel': 'rbf'}, {'probability': True}]],\n",
       "    [['LogisticR_direct'],\n",
       "     ['BandSelector', {'bands': [0, 1, 2, 3, 4, 5, 6, 7, 8]}],\n",
       "     ['BandTransformer', {'bands': [0, 1, 2, 3]}, {'transformations': []}],\n",
       "     ['Hist_SAR'],\n",
       "     ['LogisticRegression']],\n",
       "    [['AdaBoost_direct'],\n",
       "     ['BandSelector', {'bands': [0, 1, 2, 3, 4, 5, 6, 7, 8]}],\n",
       "     ['BandTransformer', {'bands': [0, 1, 2, 3]}, {'transformations': []}],\n",
       "     ['Hist_SAR'],\n",
       "     ['AdaBoostClassifier', {'n_estimators': 200}]]],\n",
       "   '--metrics_to_report': ['f1_score_macro',\n",
       "    'f1_score_weighted',\n",
       "    'f1_score_multiclass',\n",
       "    'accuracy_score',\n",
       "    'precision_score_macro',\n",
       "    'recall_score_macro',\n",
       "    'roc_auc_score',\n",
       "    'log_loss',\n",
       "    'kappa_score',\n",
       "    'confusion_matrix']}},\n",
       " 'varying_args': {'groups': [{'options': {'--seed': 100150}},\n",
       "   {'options': {'--seed': 100150}}]}}"
      ]
     },
     "execution_count": 13,
     "metadata": {},
     "output_type": "execute_result"
    }
   ],
   "source": [
    "with open('/home/listic/Bureau/cortes_stage/ML-WetSnowSAR_pipeline_stage/pipeline/parameter/config_param.yml', 'r') as file:\n",
    "    tmp = yaml.safe_load(file)\n",
    "\n",
    "tmp"
   ]
  },
  {
   "cell_type": "code",
   "execution_count": 37,
   "metadata": {},
   "outputs": [
    {
     "data": {
      "text/plain": [
       "[[['KNN_direct'],\n",
       "  ['BandSelector', {'bands': [0, 1, 2, 3, 4, 5, 6, 7, 8]}],\n",
       "  ['BandTransformer', {'bands': [0, 1, 2, 3]}, {'transformations': []}],\n",
       "  ['Hist_SAR'],\n",
       "  ['KNeighborsClassifier', {'n_neighbors': 50}]],\n",
       " [['RandomForest_direct'],\n",
       "  ['BandSelector', {'bands': [0, 1, 2, 3, 4, 5, 6, 7, 8]}],\n",
       "  ['BandTransformer', {'bands': [0, 1, 2, 3]}, {'transformations': []}],\n",
       "  ['Hist_SAR'],\n",
       "  ['RandomForestClassifier', {'n_estimators': 200}, {'criterion': 'entropy'}]],\n",
       " [['MLP_direct'],\n",
       "  ['BandSelector', {'bands': [0, 1, 2, 3, 4, 5, 6, 7, 8]}],\n",
       "  ['BandTransformer', {'bands': [0, 1, 2, 3]}, {'transformations': []}],\n",
       "  ['Hist_SAR'],\n",
       "  ['MLPClassifier', {'alpha': 0.01}]],\n",
       " [['SVMrbf_direct'],\n",
       "  ['BandSelector', {'bands': [0, 1, 2, 3, 4, 5, 6, 7, 8]}],\n",
       "  ['BandTransformer', {'bands': [0, 1, 2, 3]}, {'transformations': []}],\n",
       "  ['Hist_SAR'],\n",
       "  ['SVC', {'kernel': 'rbf'}, {'probability': True}]],\n",
       " [['LogisticR_direct'],\n",
       "  ['BandSelector', {'bands': [0, 1, 2, 3, 4, 5, 6, 7, 8]}],\n",
       "  ['BandTransformer', {'bands': [0, 1, 2, 3]}, {'transformations': []}],\n",
       "  ['Hist_SAR'],\n",
       "  ['LogisticRegression']],\n",
       " [['AdaBoost_direct'],\n",
       "  ['BandSelector', {'bands': [0, 1, 2, 3, 4, 5, 6, 7, 8]}],\n",
       "  ['BandTransformer', {'bands': [0, 1, 2, 3]}, {'transformations': []}],\n",
       "  ['Hist_SAR'],\n",
       "  ['AdaBoostClassifier', {'n_estimators': 200}]]]"
      ]
     },
     "execution_count": 37,
     "metadata": {},
     "output_type": "execute_result"
    }
   ],
   "source": [
    "import_list = tmp[\"fixed_args\"][\"options\"][\"--import_list\"]\n",
    "pipeline = tmp[\"fixed_args\"][\"options\"][\"--pipeline\"]\n",
    "pipeline"
   ]
  },
  {
   "cell_type": "code",
   "execution_count": null,
   "metadata": {},
   "outputs": [],
   "source": []
  },
  {
   "cell_type": "code",
   "execution_count": 55,
   "metadata": {},
   "outputs": [
    {
     "ename": "KeyError",
     "evalue": "'Hist_SAR'",
     "output_type": "error",
     "traceback": [
      "\u001b[0;31m---------------------------------------------------------------------------\u001b[0m",
      "\u001b[0;31mKeyError\u001b[0m                                  Traceback (most recent call last)",
      "Cell \u001b[0;32mIn[55], line 18\u001b[0m\n\u001b[1;32m     16\u001b[0m name_method \u001b[38;5;241m=\u001b[39m step[\u001b[38;5;241m0\u001b[39m]\n\u001b[1;32m     17\u001b[0m params \u001b[38;5;241m=\u001b[39m step[\u001b[38;5;241m1\u001b[39m] \u001b[38;5;28;01mif\u001b[39;00m \u001b[38;5;28mlen\u001b[39m(step) \u001b[38;5;241m>\u001b[39m \u001b[38;5;241m1\u001b[39m \u001b[38;5;28;01melse\u001b[39;00m {}\n\u001b[0;32m---> 18\u001b[0m estimator \u001b[38;5;241m=\u001b[39m \u001b[38;5;28;43mglobals\u001b[39;49m\u001b[43m(\u001b[49m\u001b[43m)\u001b[49m\u001b[43m[\u001b[49m\u001b[43mname_method\u001b[49m\u001b[43m]\u001b[49m(\u001b[38;5;241m*\u001b[39m\u001b[38;5;241m*\u001b[39mparams)\n\u001b[1;32m     20\u001b[0m \u001b[38;5;66;03m# Set random_state if it is a parameter for the estimator and rng is provided\u001b[39;00m\n\u001b[1;32m     21\u001b[0m \u001b[38;5;28;01mif\u001b[39;00m rng \u001b[38;5;129;01mis\u001b[39;00m \u001b[38;5;129;01mnot\u001b[39;00m \u001b[38;5;28;01mNone\u001b[39;00m \u001b[38;5;129;01mand\u001b[39;00m \u001b[38;5;124m'\u001b[39m\u001b[38;5;124mrandom_state\u001b[39m\u001b[38;5;124m'\u001b[39m \u001b[38;5;129;01min\u001b[39;00m signature(estimator\u001b[38;5;241m.\u001b[39m\u001b[38;5;21m__init__\u001b[39m)\u001b[38;5;241m.\u001b[39mparameters:\n",
      "\u001b[0;31mKeyError\u001b[0m: 'Hist_SAR'"
     ]
    }
   ],
   "source": [
    "import numpy as np\n",
    "from sklearn.pipeline import Pipeline\n",
    "from sklearn.preprocessing import LabelEncoder\n",
    "from imblearn.under_sampling import RandomUnderSampler\n",
    "from imblearn.over_sampling import RandomOverSampler\n",
    "from imblearn.combine import SMOTEENN\n",
    "from inspect import signature\n",
    "import os, ast\n",
    "\n",
    "from utils.files_management import load_h5\n",
    "\n",
    "pipe = [['AdaBoost_direct'],['AdaBoostClassifier', {'n_estimators': 200}]]\n",
    "steps = []\n",
    "\n",
    "for step in pipe[1:]:\n",
    "    name_method = step[0]\n",
    "    params = step[1] if len(step) > 1 else {}\n",
    "    estimator = globals()[name_method](**params)\n",
    "\n",
    "    # Set random_state if it is a parameter for the estimator and rng is provided\n",
    "    if rng is not None and 'random_state' in signature(estimator.__init__).parameters:\n",
    "        setattr(estimator, 'random_state', rng)\n",
    "\n",
    "    steps.append((name_method, estimator))\n",
    "Pipeline(steps, verbose=True, memory=\".cache\")\n"
   ]
  },
  {
   "cell_type": "code",
   "execution_count": 48,
   "metadata": {},
   "outputs": [
    {
     "ename": "SyntaxError",
     "evalue": "invalid syntax (1875665354.py, line 39)",
     "output_type": "error",
     "traceback": [
      "\u001b[0;36m  Cell \u001b[0;32mIn[48], line 39\u001b[0;36m\u001b[0m\n\u001b[0;31m    for import_lib in args.import:\u001b[0m\n\u001b[0m                           ^\u001b[0m\n\u001b[0;31mSyntaxError\u001b[0m\u001b[0;31m:\u001b[0m invalid syntax\n"
     ]
    }
   ],
   "source": [
    "import ast\n",
    "from sklearn.pipeline import Pipeline\n",
    "from inspect import signature\n",
    "\n",
    "def parse_pipeline(args, idx, rng=None):\n",
    "    \"\"\"Parse a dictionary to create a pipeline of estimators\n",
    "    The dictionary must have the following structure::\n",
    "    {\n",
    "        \"import\": [\n",
    "            \"from sklearn.preprocessing import StandardScaler\",\n",
    "            \"from sklearn.decomposition import PCA\",\n",
    "            \"from sklearn.svm import SVC\",\n",
    "        ],\n",
    "        \"pipeline\": [\n",
    "            [\n",
    "                [\"StandardScaler\", {\"with_mean\": False, \"with_std\": False}],\n",
    "                [\"PCA\", {\"n_components\": 0.95}],\n",
    "                [\"SVC\", {\"kernel\": \"rbf\", \"C\": 10, \"gamma\": 0.01}],\n",
    "            ]\n",
    "        ],\n",
    "    }\n",
    "\n",
    "    Parameters\n",
    "    ----------\n",
    "    args : Namespace\n",
    "        Namespace object containing the pipeline\n",
    "\n",
    "    idx : int\n",
    "        Index of the pipeline to use in case of multiple pipelines\n",
    "\n",
    "    rng : int, optional\n",
    "        Random state to set for estimators that support it.\n",
    "\n",
    "    Returns\n",
    "    -------\n",
    "    sklearn.pipeline.Pipeline\n",
    "        Pipeline of estimators\n",
    "    \"\"\"\n",
    "    for import_lib in args.import:\n",
    "        exec(import_lib, globals())\n",
    "    \n",
    "    pipe = ast.literal_eval(str(args.pipeline[idx]))\n",
    "    steps = []\n",
    "\n",
    "    for step in pipe:\n",
    "        name_method = step[0]\n",
    "        params = step[1] if len(step) > 1 else {}\n",
    "        estimator = globals()[name_method](**params)\n",
    "\n",
    "        # Set random_state if it is a parameter for the estimator and rng is provided\n",
    "        if rng is not None and 'random_state' in signature(estimator.__init__).parameters:\n",
    "            setattr(estimator, 'random_state', rng)\n",
    "\n",
    "        steps.append((name_method, estimator))\n",
    "    return Pipeline(steps, verbose=True, memory=\".cache\")\n",
    "\n",
    "# Example usage\n",
    "from argparse import Namespace\n",
    "\n",
    "args = Namespace(\n",
    "    import=[\n",
    "        \"from sklearn.preprocessing import StandardScaler\",\n",
    "        \"from sklearn.decomposition import PCA\",\n",
    "        \"from sklearn.svm import SVC\",\n",
    "    ],\n",
    "    pipeline=[\n",
    "        [\n",
    "            [\"StandardScaler\", {\"with_mean\": False, \"with_std\": False}],\n",
    "            [\"PCA\", {\"n_components\": 0.95}],\n",
    "            [\"SVC\", {\"kernel\": \"rbf\", \"C\": 10, \"gamma\": 0.01}],\n",
    "        ]\n",
    "    ])   \n",
    "\n",
    "pipeline = parse_pipeline(args, idx=0, rng=42)\n",
    "print(pipeline)\n"
   ]
  },
  {
   "cell_type": "code",
   "execution_count": 24,
   "metadata": {},
   "outputs": [
    {
     "ename": "AttributeError",
     "evalue": "'dict' object has no attribute 'import_list'",
     "output_type": "error",
     "traceback": [
      "\u001b[0;31m---------------------------------------------------------------------------\u001b[0m",
      "\u001b[0;31mAttributeError\u001b[0m                            Traceback (most recent call last)",
      "Cell \u001b[0;32mIn[24], line 1\u001b[0m\n\u001b[0;32m----> 1\u001b[0m \u001b[43mparse_pipeline\u001b[49m\u001b[43m(\u001b[49m\u001b[43mtmp\u001b[49m\u001b[43m[\u001b[49m\u001b[38;5;124;43m\"\u001b[39;49m\u001b[38;5;124;43mfixed_args\u001b[39;49m\u001b[38;5;124;43m\"\u001b[39;49m\u001b[43m]\u001b[49m\u001b[43m[\u001b[49m\u001b[38;5;124;43m\"\u001b[39;49m\u001b[38;5;124;43moptions\u001b[39;49m\u001b[38;5;124;43m\"\u001b[39;49m\u001b[43m]\u001b[49m\u001b[43m,\u001b[49m\u001b[43m \u001b[49m\u001b[38;5;241;43m0\u001b[39;49m\u001b[43m)\u001b[49m\n",
      "Cell \u001b[0;32mIn[22], line 34\u001b[0m, in \u001b[0;36mparse_pipeline\u001b[0;34m(args, idx)\u001b[0m\n\u001b[1;32m      2\u001b[0m \u001b[38;5;28;01mdef\u001b[39;00m \u001b[38;5;21mparse_pipeline\u001b[39m(args, idx):\n\u001b[1;32m      3\u001b[0m \u001b[38;5;250m    \u001b[39m\u001b[38;5;124;03m\"\"\"Parse a dictionary to create a pipeline of estimators\u001b[39;00m\n\u001b[1;32m      4\u001b[0m \u001b[38;5;124;03m    The dictionary must have the following structure::\u001b[39;00m\n\u001b[1;32m      5\u001b[0m \u001b[38;5;124;03m    {\u001b[39;00m\n\u001b[0;32m   (...)\u001b[0m\n\u001b[1;32m     32\u001b[0m \u001b[38;5;124;03m        Pipeline of estimators\u001b[39;00m\n\u001b[1;32m     33\u001b[0m \u001b[38;5;124;03m    \"\"\"\u001b[39;00m\n\u001b[0;32m---> 34\u001b[0m     \u001b[38;5;28;01mfor\u001b[39;00m import_lib \u001b[38;5;129;01min\u001b[39;00m \u001b[43margs\u001b[49m\u001b[38;5;241;43m.\u001b[39;49m\u001b[43mimport_list\u001b[49m :\n\u001b[1;32m     35\u001b[0m         exec(import_lib)\n\u001b[1;32m     36\u001b[0m     pipe \u001b[38;5;241m=\u001b[39m ast\u001b[38;5;241m.\u001b[39mliteral_eval(args\u001b[38;5;241m.\u001b[39mpipeline[idx])\n",
      "\u001b[0;31mAttributeError\u001b[0m: 'dict' object has no attribute 'import_list'"
     ]
    }
   ],
   "source": [
    "parse_pipeline(tmp[\"fixed_args\"][\"options\"], 0)"
   ]
  }
 ],
 "metadata": {
  "kernelspec": {
   "display_name": "base",
   "language": "python",
   "name": "python3"
  },
  "language_info": {
   "codemirror_mode": {
    "name": "ipython",
    "version": 3
   },
   "file_extension": ".py",
   "mimetype": "text/x-python",
   "name": "python",
   "nbconvert_exporter": "python",
   "pygments_lexer": "ipython3",
   "version": "3.12.2"
  }
 },
 "nbformat": 4,
 "nbformat_minor": 2
}
