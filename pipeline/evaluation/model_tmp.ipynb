{
 "cells": [
  {
   "cell_type": "code",
   "execution_count": 1,
   "metadata": {},
   "outputs": [],
   "source": [
    "import sys\n",
    "import os\n",
    "import time\n",
    "import logging\n",
    "import argparse\n",
    "import numpy as np\n",
    "from datetime import datetime\n",
    "from joblib import Parallel, delayed\n",
    "\n",
    "# Set the parent directory. This assumes your notebook is in the project root or a subdirectory.\n",
    "# Adjust the path as necessary.\n",
    "parent_dir = os.path.abspath(os.path.join(os.getcwd(), \"..\"))\n",
    "sys.path.append(parent_dir)\n",
    "\n",
    "from sklearn.preprocessing import LabelEncoder\n",
    "from sklearn.model_selection import train_test_split\n",
    "\n",
    "# Custom imports from your project\n",
    "from estimators.statistical_descriptor import Nagler_WS\n",
    "from utils.dataset_management import parse_pipeline\n",
    "from utils.dataset_load import shuffle_data, DatasetLoader\n",
    "from utils.fold_management import FoldManagement\n",
    "from utils.label_management import LabelManagement\n",
    "from utils.balance_management import BalanceManagement\n",
    "from utils.figures import *\n",
    "from utils.files_management import *\n"
   ]
  },
  {
   "cell_type": "code",
   "execution_count": 2,
   "metadata": {},
   "outputs": [
    {
     "name": "stdout",
     "output_type": "stream",
     "text": [
      "RandomState(MT19937)\n"
     ]
    }
   ],
   "source": [
    "rng = np.random.RandomState(seed=442)\n",
    "print(rng)"
   ]
  },
  {
   "cell_type": "code",
   "execution_count": 3,
   "metadata": {},
   "outputs": [
    {
     "data": {
      "text/plain": [
       "{'fixed_args': {'options': {'--data_path': '/home/listic/Bureau/cortes_stage/ML-WetSnowSAR_pipeline_stage/pipeline/data/dataset/dataset_AD_08200821_14Mas3Top3Phy_W15_corrected_V2.h5',\n",
       "   '--fold_method': 'combinationFold',\n",
       "   '--labeling_method': 'crocus',\n",
       "   '--balancing_method': 'undersample',\n",
       "   '--request': '(date.dt.month == 3 and date.dt.day == 1) and ((elevation > 1000) and (elevation < 2000))',\n",
       "   '--shuffle_data': True,\n",
       "   '--balance_data': False,\n",
       "   '--import_list': ['from sklearn.svm import SVC',\n",
       "    'from sklearn.neighbors import KNeighborsClassifier',\n",
       "    'from sklearn.ensemble import AdaBoostClassifier, RandomForestClassifier',\n",
       "    'from sklearn.linear_model import LogisticRegression',\n",
       "    'from sklearn.neural_network import MLPClassifier',\n",
       "    'from estimators.statistical_descriptor import *',\n",
       "    'from estimators.band_transform import *'],\n",
       "   '--pipeline': [[['KNN_direct'],\n",
       "     ['BandSelector', {'bands': [0, 1, 2, 3, 4, 5, 6, 7, 8]}],\n",
       "     ['BandTransformer', {'bands': [0, 1, 2, 3]}, {'transformations': []}],\n",
       "     ['Hist_SAR'],\n",
       "     ['KNeighborsClassifier', {'n_neighbors': 50}]],\n",
       "    [['RandomForest_direct'],\n",
       "     ['BandSelector', {'bands': [0, 1, 2, 3, 4, 5, 6, 7, 8]}],\n",
       "     ['BandTransformer', {'bands': [0, 1, 2, 3]}, {'transformations': []}],\n",
       "     ['Hist_SAR'],\n",
       "     ['RandomForestClassifier',\n",
       "      {'n_estimators': 200},\n",
       "      {'criterion': 'entropy'}]],\n",
       "    [['MLP_direct'],\n",
       "     ['BandSelector', {'bands': [0, 1, 2, 3, 4, 5, 6, 7, 8]}],\n",
       "     ['BandTransformer', {'bands': [0, 1, 2, 3]}, {'transformations': []}],\n",
       "     ['Hist_SAR'],\n",
       "     ['MLPClassifier', {'alpha': 0.01}]],\n",
       "    [['LogisticR_direct'],\n",
       "     ['BandSelector', {'bands': [0, 1, 2, 3, 4, 5, 6, 7, 8]}],\n",
       "     ['BandTransformer', {'bands': [0, 1, 2, 3]}, {'transformations': []}],\n",
       "     ['Hist_SAR'],\n",
       "     ['LogisticRegression']],\n",
       "    [['AdaBoost_direct'],\n",
       "     ['BandSelector', {'bands': [0, 1, 2, 3, 4, 5, 6, 7, 8]}],\n",
       "     ['BandTransformer', {'bands': [0, 1, 2, 3]}, {'transformations': []}],\n",
       "     ['Hist_SAR'],\n",
       "     ['AdaBoostClassifier', {'n_estimators': 200}]]],\n",
       "   '--metrics_to_report': ['f1_score_macro',\n",
       "    'f1_score_weighted',\n",
       "    'f1_score_multiclass',\n",
       "    'accuracy_score',\n",
       "    'precision_score_macro',\n",
       "    'recall_score_macro',\n",
       "    'roc_auc_score',\n",
       "    'log_loss',\n",
       "    'kappa_score',\n",
       "    'confusion_matrix']}},\n",
       " 'varying_args': {'groups': [{'options': {'--seed': 100150}},\n",
       "   {'options': {'--seed': 100150}}]}}"
      ]
     },
     "execution_count": 3,
     "metadata": {},
     "output_type": "execute_result"
    }
   ],
   "source": [
    "with open('/home/listic/Bureau/cortes_stage/ML-WetSnowSAR_pipeline_stage/pipeline/parameter/config_param.yml', 'r') as file:\n",
    "    tmp = yaml.safe_load(file)\n",
    "\n",
    "tmp"
   ]
  },
  {
   "cell_type": "code",
   "execution_count": 4,
   "metadata": {},
   "outputs": [
    {
     "data": {
      "text/plain": [
       "[[['KNN_direct'],\n",
       "  ['BandSelector', {'bands': [0, 1, 2, 3, 4, 5, 6, 7, 8]}],\n",
       "  ['BandTransformer', {'bands': [0, 1, 2, 3]}, {'transformations': []}],\n",
       "  ['Hist_SAR'],\n",
       "  ['KNeighborsClassifier', {'n_neighbors': 50}]],\n",
       " [['RandomForest_direct'],\n",
       "  ['BandSelector', {'bands': [0, 1, 2, 3, 4, 5, 6, 7, 8]}],\n",
       "  ['BandTransformer', {'bands': [0, 1, 2, 3]}, {'transformations': []}],\n",
       "  ['Hist_SAR'],\n",
       "  ['RandomForestClassifier', {'n_estimators': 200}, {'criterion': 'entropy'}]],\n",
       " [['MLP_direct'],\n",
       "  ['BandSelector', {'bands': [0, 1, 2, 3, 4, 5, 6, 7, 8]}],\n",
       "  ['BandTransformer', {'bands': [0, 1, 2, 3]}, {'transformations': []}],\n",
       "  ['Hist_SAR'],\n",
       "  ['MLPClassifier', {'alpha': 0.01}]],\n",
       " [['LogisticR_direct'],\n",
       "  ['BandSelector', {'bands': [0, 1, 2, 3, 4, 5, 6, 7, 8]}],\n",
       "  ['BandTransformer', {'bands': [0, 1, 2, 3]}, {'transformations': []}],\n",
       "  ['Hist_SAR'],\n",
       "  ['LogisticRegression']],\n",
       " [['AdaBoost_direct'],\n",
       "  ['BandSelector', {'bands': [0, 1, 2, 3, 4, 5, 6, 7, 8]}],\n",
       "  ['BandTransformer', {'bands': [0, 1, 2, 3]}, {'transformations': []}],\n",
       "  ['Hist_SAR'],\n",
       "  ['AdaBoostClassifier', {'n_estimators': 200}]]]"
      ]
     },
     "execution_count": 4,
     "metadata": {},
     "output_type": "execute_result"
    }
   ],
   "source": [
    "import_list = tmp[\"fixed_args\"][\"options\"][\"--import_list\"]\n",
    "pipeline = tmp[\"fixed_args\"][\"options\"][\"--pipeline\"]\n",
    "pipeline"
   ]
  },
  {
   "cell_type": "code",
   "execution_count": 60,
   "metadata": {},
   "outputs": [],
   "source": [
    "import json\n",
    "def dump_h5(data, file_path):\n",
    "    data_dict = {}\n",
    "    data_dict[\"data\"] = data\n",
    "    with h5py.File(file_path + '.h5', 'w') as f:\n",
    "        for key, value in data_dict.items():\n",
    "            if isinstance(value, np.ndarray):\n",
    "                f.create_dataset(key, data=value)\n",
    "            elif isinstance(value, (list, dict)):\n",
    "                f.attrs[key] = json.dumps(value)\n",
    "            else:\n",
    "                f.attrs[key] = str(value)\n",
    "\n",
    "    \n",
    "def load_h5(file_path):\n",
    "    data_dict = {}\n",
    "    with h5py.File(file_path, 'r') as f:\n",
    "        for key in f.keys():\n",
    "            data_dict[key] = np.array(f[key])\n",
    "        for key in f.attrs:\n",
    "            try:\n",
    "                data_dict[key] = json.loads(f.attrs[key])\n",
    "            except json.JSONDecodeError:\n",
    "                data_dict[key] = f.attrs[key]\n",
    "    return data_dict[\"data\"]"
   ]
  },
  {
   "cell_type": "code",
   "execution_count": 65,
   "metadata": {},
   "outputs": [],
   "source": [
    "data_to_save = {\n",
    "    'list_data': [1, 2, 3],\n",
    "    'dict_data': {'a': 1, 'b': 2},\n",
    "    'pipeline': 1,  # Replace with your scikit-learn pipeline object\n",
    "    'variable': 42\n",
    "}\n",
    "\n",
    "# Save to HDF5\n",
    "dump_h5(np.array([1, 2, 3]), './data')"
   ]
  },
  {
   "cell_type": "code",
   "execution_count": 66,
   "metadata": {},
   "outputs": [
    {
     "data": {
      "text/plain": [
       "array([1, 2, 3])"
      ]
     },
     "execution_count": 66,
     "metadata": {},
     "output_type": "execute_result"
    }
   ],
   "source": [
    "loaded_data = load_h5('./data.h5')\n",
    "loaded_data"
   ]
  },
  {
   "cell_type": "code",
   "execution_count": 57,
   "metadata": {},
   "outputs": [
    {
     "ename": "ValueError",
     "evalue": "malformed node or string on line 1: <ast.Call object at 0x7acee77b5750>",
     "output_type": "error",
     "traceback": [
      "\u001b[0;31m---------------------------------------------------------------------------\u001b[0m",
      "\u001b[0;31mValueError\u001b[0m                                Traceback (most recent call last)",
      "Cell \u001b[0;32mIn[57], line 2\u001b[0m\n\u001b[1;32m      1\u001b[0m t \u001b[38;5;241m=\u001b[39m \u001b[38;5;124m\"\u001b[39m\u001b[38;5;124mPipeline(memory=\u001b[39m\u001b[38;5;124m'\u001b[39m\u001b[38;5;124m.cache\u001b[39m\u001b[38;5;124m'\u001b[39m\u001b[38;5;124m,steps=[(\u001b[39m\u001b[38;5;124m'\u001b[39m\u001b[38;5;124mBandSelector\u001b[39m\u001b[38;5;124m'\u001b[39m\u001b[38;5;124m,BandSelector(bands=[0, 1, 2, 3, 4, 5, 6, 7, 8])),(\u001b[39m\u001b[38;5;124m'\u001b[39m\u001b[38;5;124mBandTransformer\u001b[39m\u001b[38;5;124m'\u001b[39m\u001b[38;5;124m,BandTransformer(bands=[0, 1, 2, 3], transformations=[])),(\u001b[39m\u001b[38;5;124m'\u001b[39m\u001b[38;5;124mHist_SAR\u001b[39m\u001b[38;5;124m'\u001b[39m\u001b[38;5;124m, Hist_SAR()),(\u001b[39m\u001b[38;5;124m'\u001b[39m\u001b[38;5;124mKNeighborsClassifier\u001b[39m\u001b[38;5;124m'\u001b[39m\u001b[38;5;124m, KNeighborsClassifier(n_neighbors=50))],verbose=True)\u001b[39m\u001b[38;5;124m\"\u001b[39m\n\u001b[0;32m----> 2\u001b[0m \u001b[43mast\u001b[49m\u001b[38;5;241;43m.\u001b[39;49m\u001b[43mliteral_eval\u001b[49m\u001b[43m(\u001b[49m\u001b[43mt\u001b[49m\u001b[43m)\u001b[49m\n",
      "File \u001b[0;32m~/miniconda3/lib/python3.12/ast.py:112\u001b[0m, in \u001b[0;36mliteral_eval\u001b[0;34m(node_or_string)\u001b[0m\n\u001b[1;32m    110\u001b[0m                 \u001b[38;5;28;01mreturn\u001b[39;00m left \u001b[38;5;241m-\u001b[39m right\n\u001b[1;32m    111\u001b[0m     \u001b[38;5;28;01mreturn\u001b[39;00m _convert_signed_num(node)\n\u001b[0;32m--> 112\u001b[0m \u001b[38;5;28;01mreturn\u001b[39;00m \u001b[43m_convert\u001b[49m\u001b[43m(\u001b[49m\u001b[43mnode_or_string\u001b[49m\u001b[43m)\u001b[49m\n",
      "File \u001b[0;32m~/miniconda3/lib/python3.12/ast.py:111\u001b[0m, in \u001b[0;36mliteral_eval.<locals>._convert\u001b[0;34m(node)\u001b[0m\n\u001b[1;32m    109\u001b[0m         \u001b[38;5;28;01melse\u001b[39;00m:\n\u001b[1;32m    110\u001b[0m             \u001b[38;5;28;01mreturn\u001b[39;00m left \u001b[38;5;241m-\u001b[39m right\n\u001b[0;32m--> 111\u001b[0m \u001b[38;5;28;01mreturn\u001b[39;00m \u001b[43m_convert_signed_num\u001b[49m\u001b[43m(\u001b[49m\u001b[43mnode\u001b[49m\u001b[43m)\u001b[49m\n",
      "File \u001b[0;32m~/miniconda3/lib/python3.12/ast.py:85\u001b[0m, in \u001b[0;36mliteral_eval.<locals>._convert_signed_num\u001b[0;34m(node)\u001b[0m\n\u001b[1;32m     83\u001b[0m     \u001b[38;5;28;01melse\u001b[39;00m:\n\u001b[1;32m     84\u001b[0m         \u001b[38;5;28;01mreturn\u001b[39;00m \u001b[38;5;241m-\u001b[39m operand\n\u001b[0;32m---> 85\u001b[0m \u001b[38;5;28;01mreturn\u001b[39;00m \u001b[43m_convert_num\u001b[49m\u001b[43m(\u001b[49m\u001b[43mnode\u001b[49m\u001b[43m)\u001b[49m\n",
      "File \u001b[0;32m~/miniconda3/lib/python3.12/ast.py:76\u001b[0m, in \u001b[0;36mliteral_eval.<locals>._convert_num\u001b[0;34m(node)\u001b[0m\n\u001b[1;32m     74\u001b[0m \u001b[38;5;28;01mdef\u001b[39;00m \u001b[38;5;21m_convert_num\u001b[39m(node):\n\u001b[1;32m     75\u001b[0m     \u001b[38;5;28;01mif\u001b[39;00m \u001b[38;5;129;01mnot\u001b[39;00m \u001b[38;5;28misinstance\u001b[39m(node, Constant) \u001b[38;5;129;01mor\u001b[39;00m \u001b[38;5;28mtype\u001b[39m(node\u001b[38;5;241m.\u001b[39mvalue) \u001b[38;5;129;01mnot\u001b[39;00m \u001b[38;5;129;01min\u001b[39;00m (\u001b[38;5;28mint\u001b[39m, \u001b[38;5;28mfloat\u001b[39m, \u001b[38;5;28mcomplex\u001b[39m):\n\u001b[0;32m---> 76\u001b[0m         \u001b[43m_raise_malformed_node\u001b[49m\u001b[43m(\u001b[49m\u001b[43mnode\u001b[49m\u001b[43m)\u001b[49m\n\u001b[1;32m     77\u001b[0m     \u001b[38;5;28;01mreturn\u001b[39;00m node\u001b[38;5;241m.\u001b[39mvalue\n",
      "File \u001b[0;32m~/miniconda3/lib/python3.12/ast.py:73\u001b[0m, in \u001b[0;36mliteral_eval.<locals>._raise_malformed_node\u001b[0;34m(node)\u001b[0m\n\u001b[1;32m     71\u001b[0m \u001b[38;5;28;01mif\u001b[39;00m lno \u001b[38;5;241m:=\u001b[39m \u001b[38;5;28mgetattr\u001b[39m(node, \u001b[38;5;124m'\u001b[39m\u001b[38;5;124mlineno\u001b[39m\u001b[38;5;124m'\u001b[39m, \u001b[38;5;28;01mNone\u001b[39;00m):\n\u001b[1;32m     72\u001b[0m     msg \u001b[38;5;241m+\u001b[39m\u001b[38;5;241m=\u001b[39m \u001b[38;5;124mf\u001b[39m\u001b[38;5;124m'\u001b[39m\u001b[38;5;124m on line \u001b[39m\u001b[38;5;132;01m{\u001b[39;00mlno\u001b[38;5;132;01m}\u001b[39;00m\u001b[38;5;124m'\u001b[39m\n\u001b[0;32m---> 73\u001b[0m \u001b[38;5;28;01mraise\u001b[39;00m \u001b[38;5;167;01mValueError\u001b[39;00m(msg \u001b[38;5;241m+\u001b[39m \u001b[38;5;124mf\u001b[39m\u001b[38;5;124m'\u001b[39m\u001b[38;5;124m: \u001b[39m\u001b[38;5;132;01m{\u001b[39;00mnode\u001b[38;5;132;01m!r}\u001b[39;00m\u001b[38;5;124m'\u001b[39m)\n",
      "\u001b[0;31mValueError\u001b[0m: malformed node or string on line 1: <ast.Call object at 0x7acee77b5750>"
     ]
    }
   ],
   "source": [
    "t = \"Pipeline(memory='.cache',steps=[('BandSelector',BandSelector(bands=[0, 1, 2, 3, 4, 5, 6, 7, 8])),('BandTransformer',BandTransformer(bands=[0, 1, 2, 3], transformations=[])),('Hist_SAR', Hist_SAR()),('KNeighborsClassifier', KNeighborsClassifier(n_neighbors=50))],verbose=True)\"\n",
    "ast.literal_eval(t)"
   ]
  },
  {
   "cell_type": "code",
   "execution_count": 8,
   "metadata": {},
   "outputs": [
    {
     "data": {
      "text/plain": [
       "{0: {'train': array(['BAUGES', 'BAUGES', 'BAUGES', ..., 'VERCORS', 'VERCORS', 'VERCORS'],\n",
       "        dtype='<U15'),\n",
       "  'test': array(['ARAVIS', 'ARAVIS', 'ARAVIS', ..., 'THABOR', 'THABOR', 'THABOR'],\n",
       "        dtype='<U15')},\n",
       " 1: {'train': array(['ARAVIS', 'ARAVIS', 'ARAVIS', ..., 'VERCORS', 'VERCORS', 'VERCORS'],\n",
       "        dtype='<U15'),\n",
       "  'test': array(['BAUGES', 'BAUGES', 'BAUGES', ..., 'BELLEDONNE', 'BELLEDONNE',\n",
       "         'BELLEDONNE'], dtype='<U15')},\n",
       " 2: {'train': array(['ARAVIS', 'ARAVIS', 'ARAVIS', ..., 'VERCORS', 'VERCORS', 'VERCORS'],\n",
       "        dtype='<U15'),\n",
       "  'test': array(['GRANDES-ROUSSES', 'GRANDES-ROUSSES', 'GRANDES-ROUSSES', ...,\n",
       "         'MAURIENNE', 'MAURIENNE', 'MAURIENNE'], dtype='<U15')},\n",
       " 3: {'train': array(['ARAVIS', 'ARAVIS', 'ARAVIS', ..., 'VANOISE', 'VANOISE', 'VANOISE'],\n",
       "        dtype='<U15'),\n",
       "  'test': array(['BELLEDONNE', 'BELLEDONNE', 'BELLEDONNE', ..., 'VERCORS',\n",
       "         'VERCORS', 'VERCORS'], dtype='<U15')},\n",
       " 4: {'train': array(['BAUGES', 'BAUGES', 'BAUGES', ..., 'VERCORS', 'VERCORS', 'VERCORS'],\n",
       "        dtype='<U15'),\n",
       "  'test': array(['ARAVIS', 'ARAVIS', 'ARAVIS', ..., 'MONT-BLANC', 'MONT-BLANC',\n",
       "         'MONT-BLANC'], dtype='<U15')},\n",
       " 5: {'train': array(['ARAVIS', 'ARAVIS', 'ARAVIS', ..., 'VERCORS', 'VERCORS', 'VERCORS'],\n",
       "        dtype='<U15'),\n",
       "  'test': array(['HTE-TARENT', 'HTE-TARENT', 'HTE-TARENT', ..., 'VANOISE',\n",
       "         'VANOISE', 'VANOISE'], dtype='<U15')},\n",
       " 6: {'train': array(['ARAVIS', 'ARAVIS', 'ARAVIS', ..., 'VANOISE', 'VANOISE', 'VANOISE'],\n",
       "        dtype='<U15'),\n",
       "  'test': array(['BEAUFORTAIN', 'BEAUFORTAIN', 'BEAUFORTAIN', ..., 'VERCORS',\n",
       "         'VERCORS', 'VERCORS'], dtype='<U15')},\n",
       " 7: {'train': array(['ARAVIS', 'ARAVIS', 'ARAVIS', ..., 'VERCORS', 'VERCORS', 'VERCORS'],\n",
       "        dtype='<U15'),\n",
       "  'test': array(['BAUGES', 'BAUGES', 'BAUGES', ..., 'THABOR', 'THABOR', 'THABOR'],\n",
       "        dtype='<U15')}}"
      ]
     },
     "execution_count": 8,
     "metadata": {},
     "output_type": "execute_result"
    }
   ],
   "source": [
    "open_pkl(\"/home/listic/Bureau/cortes_stage/ML-WetSnowSAR_pipeline_stage/pipeline/results/pipeline/run_3/group_0/results/fold_key.pkl\")"
   ]
  },
  {
   "cell_type": "code",
   "execution_count": 32,
   "metadata": {},
   "outputs": [
    {
     "name": "stderr",
     "output_type": "stream",
     "text": [
      "/home/listic/miniconda3/lib/python3.12/site-packages/sklearn/base.py:347: InconsistentVersionWarning: Trying to unpickle estimator KNeighborsClassifier from version 1.5.0 when using version 1.3.0. This might lead to breaking code or invalid results. Use at your own risk. For more info please refer to:\n",
      "https://scikit-learn.org/stable/model_persistence.html#security-maintainability-limitations\n",
      "  warnings.warn(\n",
      "/home/listic/miniconda3/lib/python3.12/site-packages/sklearn/base.py:347: InconsistentVersionWarning: Trying to unpickle estimator Pipeline from version 1.5.0 when using version 1.3.0. This might lead to breaking code or invalid results. Use at your own risk. For more info please refer to:\n",
      "https://scikit-learn.org/stable/model_persistence.html#security-maintainability-limitations\n",
      "  warnings.warn(\n"
     ]
    },
    {
     "data": {
      "text/html": [
       "<style>#sk-container-id-2 {color: black;}#sk-container-id-2 pre{padding: 0;}#sk-container-id-2 div.sk-toggleable {background-color: white;}#sk-container-id-2 label.sk-toggleable__label {cursor: pointer;display: block;width: 100%;margin-bottom: 0;padding: 0.3em;box-sizing: border-box;text-align: center;}#sk-container-id-2 label.sk-toggleable__label-arrow:before {content: \"▸\";float: left;margin-right: 0.25em;color: #696969;}#sk-container-id-2 label.sk-toggleable__label-arrow:hover:before {color: black;}#sk-container-id-2 div.sk-estimator:hover label.sk-toggleable__label-arrow:before {color: black;}#sk-container-id-2 div.sk-toggleable__content {max-height: 0;max-width: 0;overflow: hidden;text-align: left;background-color: #f0f8ff;}#sk-container-id-2 div.sk-toggleable__content pre {margin: 0.2em;color: black;border-radius: 0.25em;background-color: #f0f8ff;}#sk-container-id-2 input.sk-toggleable__control:checked~div.sk-toggleable__content {max-height: 200px;max-width: 100%;overflow: auto;}#sk-container-id-2 input.sk-toggleable__control:checked~label.sk-toggleable__label-arrow:before {content: \"▾\";}#sk-container-id-2 div.sk-estimator input.sk-toggleable__control:checked~label.sk-toggleable__label {background-color: #d4ebff;}#sk-container-id-2 div.sk-label input.sk-toggleable__control:checked~label.sk-toggleable__label {background-color: #d4ebff;}#sk-container-id-2 input.sk-hidden--visually {border: 0;clip: rect(1px 1px 1px 1px);clip: rect(1px, 1px, 1px, 1px);height: 1px;margin: -1px;overflow: hidden;padding: 0;position: absolute;width: 1px;}#sk-container-id-2 div.sk-estimator {font-family: monospace;background-color: #f0f8ff;border: 1px dotted black;border-radius: 0.25em;box-sizing: border-box;margin-bottom: 0.5em;}#sk-container-id-2 div.sk-estimator:hover {background-color: #d4ebff;}#sk-container-id-2 div.sk-parallel-item::after {content: \"\";width: 100%;border-bottom: 1px solid gray;flex-grow: 1;}#sk-container-id-2 div.sk-label:hover label.sk-toggleable__label {background-color: #d4ebff;}#sk-container-id-2 div.sk-serial::before {content: \"\";position: absolute;border-left: 1px solid gray;box-sizing: border-box;top: 0;bottom: 0;left: 50%;z-index: 0;}#sk-container-id-2 div.sk-serial {display: flex;flex-direction: column;align-items: center;background-color: white;padding-right: 0.2em;padding-left: 0.2em;position: relative;}#sk-container-id-2 div.sk-item {position: relative;z-index: 1;}#sk-container-id-2 div.sk-parallel {display: flex;align-items: stretch;justify-content: center;background-color: white;position: relative;}#sk-container-id-2 div.sk-item::before, #sk-container-id-2 div.sk-parallel-item::before {content: \"\";position: absolute;border-left: 1px solid gray;box-sizing: border-box;top: 0;bottom: 0;left: 50%;z-index: -1;}#sk-container-id-2 div.sk-parallel-item {display: flex;flex-direction: column;z-index: 1;position: relative;background-color: white;}#sk-container-id-2 div.sk-parallel-item:first-child::after {align-self: flex-end;width: 50%;}#sk-container-id-2 div.sk-parallel-item:last-child::after {align-self: flex-start;width: 50%;}#sk-container-id-2 div.sk-parallel-item:only-child::after {width: 0;}#sk-container-id-2 div.sk-dashed-wrapped {border: 1px dashed gray;margin: 0 0.4em 0.5em 0.4em;box-sizing: border-box;padding-bottom: 0.4em;background-color: white;}#sk-container-id-2 div.sk-label label {font-family: monospace;font-weight: bold;display: inline-block;line-height: 1.2em;}#sk-container-id-2 div.sk-label-container {text-align: center;}#sk-container-id-2 div.sk-container {/* jupyter's `normalize.less` sets `[hidden] { display: none; }` but bootstrap.min.css set `[hidden] { display: none !important; }` so we also need the `!important` here to be able to override the default hidden behavior on the sphinx rendered scikit-learn.org. See: https://github.com/scikit-learn/scikit-learn/issues/21755 */display: inline-block !important;position: relative;}#sk-container-id-2 div.sk-text-repr-fallback {display: none;}</style><div id=\"sk-container-id-2\" class=\"sk-top-container\"><div class=\"sk-text-repr-fallback\"><pre>Pipeline(memory=&#x27;.cache&#x27;,\n",
       "         steps=[(&#x27;BandSelector&#x27;,\n",
       "                 BandSelector(bands=[0, 1, 2, 3, 4, 5, 6, 7, 8])),\n",
       "                (&#x27;BandTransformer&#x27;,\n",
       "                 BandTransformer(bands=[0, 1, 2, 3], transformations=[])),\n",
       "                (&#x27;Hist_SAR&#x27;, Hist_SAR()),\n",
       "                (&#x27;KNeighborsClassifier&#x27;, KNeighborsClassifier(n_neighbors=50))],\n",
       "         verbose=True)</pre><b>In a Jupyter environment, please rerun this cell to show the HTML representation or trust the notebook. <br />On GitHub, the HTML representation is unable to render, please try loading this page with nbviewer.org.</b></div><div class=\"sk-container\" hidden><div class=\"sk-item sk-dashed-wrapped\"><div class=\"sk-label-container\"><div class=\"sk-label sk-toggleable\"><input class=\"sk-toggleable__control sk-hidden--visually\" id=\"sk-estimator-id-6\" type=\"checkbox\" ><label for=\"sk-estimator-id-6\" class=\"sk-toggleable__label sk-toggleable__label-arrow\">Pipeline</label><div class=\"sk-toggleable__content\"><pre>Pipeline(memory=&#x27;.cache&#x27;,\n",
       "         steps=[(&#x27;BandSelector&#x27;,\n",
       "                 BandSelector(bands=[0, 1, 2, 3, 4, 5, 6, 7, 8])),\n",
       "                (&#x27;BandTransformer&#x27;,\n",
       "                 BandTransformer(bands=[0, 1, 2, 3], transformations=[])),\n",
       "                (&#x27;Hist_SAR&#x27;, Hist_SAR()),\n",
       "                (&#x27;KNeighborsClassifier&#x27;, KNeighborsClassifier(n_neighbors=50))],\n",
       "         verbose=True)</pre></div></div></div><div class=\"sk-serial\"><div class=\"sk-item\"><div class=\"sk-estimator sk-toggleable\"><input class=\"sk-toggleable__control sk-hidden--visually\" id=\"sk-estimator-id-7\" type=\"checkbox\" ><label for=\"sk-estimator-id-7\" class=\"sk-toggleable__label sk-toggleable__label-arrow\">BandSelector</label><div class=\"sk-toggleable__content\"><pre>BandSelector(bands=[0, 1, 2, 3, 4, 5, 6, 7, 8])</pre></div></div></div><div class=\"sk-item\"><div class=\"sk-estimator sk-toggleable\"><input class=\"sk-toggleable__control sk-hidden--visually\" id=\"sk-estimator-id-8\" type=\"checkbox\" ><label for=\"sk-estimator-id-8\" class=\"sk-toggleable__label sk-toggleable__label-arrow\">BandTransformer</label><div class=\"sk-toggleable__content\"><pre>BandTransformer(bands=[0, 1, 2, 3], transformations=[])</pre></div></div></div><div class=\"sk-item\"><div class=\"sk-estimator sk-toggleable\"><input class=\"sk-toggleable__control sk-hidden--visually\" id=\"sk-estimator-id-9\" type=\"checkbox\" ><label for=\"sk-estimator-id-9\" class=\"sk-toggleable__label sk-toggleable__label-arrow\">Hist_SAR</label><div class=\"sk-toggleable__content\"><pre>Hist_SAR()</pre></div></div></div><div class=\"sk-item\"><div class=\"sk-estimator sk-toggleable\"><input class=\"sk-toggleable__control sk-hidden--visually\" id=\"sk-estimator-id-10\" type=\"checkbox\" ><label for=\"sk-estimator-id-10\" class=\"sk-toggleable__label sk-toggleable__label-arrow\">KNeighborsClassifier</label><div class=\"sk-toggleable__content\"><pre>KNeighborsClassifier(n_neighbors=50)</pre></div></div></div></div></div></div></div>"
      ],
      "text/plain": [
       "Pipeline(memory='.cache',\n",
       "         steps=[('BandSelector',\n",
       "                 BandSelector(bands=[0, 1, 2, 3, 4, 5, 6, 7, 8])),\n",
       "                ('BandTransformer',\n",
       "                 BandTransformer(bands=[0, 1, 2, 3], transformations=[])),\n",
       "                ('Hist_SAR', Hist_SAR()),\n",
       "                ('KNeighborsClassifier', KNeighborsClassifier(n_neighbors=50))],\n",
       "         verbose=True)"
      ]
     },
     "execution_count": 32,
     "metadata": {},
     "output_type": "execute_result"
    }
   ],
   "source": [
    "import joblib\n",
    "joblib.load(\"/home/listic/Bureau/cortes_stage/ML-WetSnowSAR_pipeline_stage/pipeline/results/pipeline/run_3/group_0/models/KNN_direct/KNN_direct_fold1.joblib\")"
   ]
  },
  {
   "cell_type": "code",
   "execution_count": 10,
   "metadata": {},
   "outputs": [
    {
     "data": {
      "text/plain": [
       "'1.26.3'"
      ]
     },
     "execution_count": 10,
     "metadata": {},
     "output_type": "execute_result"
    }
   ],
   "source": [
    "np.__version__"
   ]
  }
 ],
 "metadata": {
  "kernelspec": {
   "display_name": "base",
   "language": "python",
   "name": "python3"
  },
  "language_info": {
   "codemirror_mode": {
    "name": "ipython",
    "version": 3
   },
   "file_extension": ".py",
   "mimetype": "text/x-python",
   "name": "python",
   "nbconvert_exporter": "python",
   "pygments_lexer": "ipython3",
   "version": "3.12.2"
  }
 },
 "nbformat": 4,
 "nbformat_minor": 2
}
