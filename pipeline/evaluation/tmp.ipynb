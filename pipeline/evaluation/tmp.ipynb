{
 "cells": [
  {
   "cell_type": "code",
   "execution_count": 4,
   "metadata": {},
   "outputs": [
    {
     "data": {
      "text/plain": [
       "['from sklearn.svm import SVC',\n",
       " 'from sklearn.neighbors import KNeighborsClassifier',\n",
       " 'from sklearn.ensemble import AdaBoostClassifier, RandomForestClassifier',\n",
       " 'from sklearn.linear_model import LogisticRegression',\n",
       " 'from sklearn.neural_network import MLPClassifier',\n",
       " 'from estimators.statistical_descriptor import container_ML.sif data estimators evaluation parameter results utils']"
      ]
     },
     "execution_count": 4,
     "metadata": {},
     "output_type": "execute_result"
    }
   ],
   "source": [
    "p = ['from sklearn.svm import SVC', 'from sklearn.neighbors import KNeighborsClassifier', 'from sklearn.ensemble import AdaBoostClassifier, RandomForestClassifier', 'from sklearn.linear_model import LogisticRegression', 'from sklearn.neural_network import MLPClassifier', 'from estimators.statistical_descriptor import container_ML.sif data estimators evaluation parameter results utils']\n",
    "p"
   ]
  },
  {
   "cell_type": "code",
   "execution_count": null,
   "metadata": {},
   "outputs": [],
   "source": []
  }
 ],
 "metadata": {
  "kernelspec": {
   "display_name": "Python 3",
   "language": "python",
   "name": "python3"
  },
  "language_info": {
   "codemirror_mode": {
    "name": "ipython",
    "version": 3
   },
   "file_extension": ".py",
   "mimetype": "text/x-python",
   "name": "python",
   "nbconvert_exporter": "python",
   "pygments_lexer": "ipython3",
   "version": "3.11.9"
  }
 },
 "nbformat": 4,
 "nbformat_minor": 2
}
